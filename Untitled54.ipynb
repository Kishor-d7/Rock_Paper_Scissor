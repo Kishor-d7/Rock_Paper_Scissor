{
  "nbformat": 4,
  "nbformat_minor": 0,
  "metadata": {
    "colab": {
      "provenance": []
    },
    "kernelspec": {
      "name": "python3",
      "display_name": "Python 3"
    },
    "language_info": {
      "name": "python"
    }
  },
  "cells": [
    {
      "cell_type": "code",
      "execution_count": 6,
      "metadata": {
        "colab": {
          "base_uri": "https://localhost:8080/"
        },
        "id": "Tdi5ALl49TJC",
        "outputId": "eb0defe2-ca0e-4de7-954b-c36b44cf1b1c"
      },
      "outputs": [
        {
          "output_type": "stream",
          "name": "stdout",
          "text": [
            "Enter Rock,Paper,Scissor or('q' to quit):rock\n",
            "You chose rock and computer chose rock\n",
            "It's a  tie\n",
            "None\n",
            "Enter Rock,Paper,Scissor or('q' to quit):paper\n",
            "You chose paper and computer chose paper\n",
            "It's a  tie\n",
            "None\n",
            "Enter Rock,Paper,Scissor or('q' to quit):scissor\n",
            "You chose scissor and computer chose paper\n",
            "You win\n",
            "None\n",
            "Enter Rock,Paper,Scissor or('q' to quit):rock\n",
            "You chose rock and computer chose scissor\n",
            "You win\n",
            "None\n",
            "Enter Rock,Paper,Scissor or('q' to quit):paper\n",
            "You chose paper and computer chose paper\n",
            "It's a  tie\n",
            "None\n",
            "Enter Rock,Paper,Scissor or('q' to quit):paper\n",
            "You chose paper and computer chose scissor\n",
            "Computer win\n",
            "None\n",
            "Enter Rock,Paper,Scissor or('q' to quit):rock\n",
            "You chose rock and computer chose scissor\n",
            "You win\n",
            "None\n",
            "Enter Rock,Paper,Scissor or('q' to quit):paper\n",
            "You chose paper and computer chose paper\n",
            "It's a  tie\n",
            "None\n",
            "Enter Rock,Paper,Scissor or('q' to quit):paper\n",
            "You chose paper and computer chose scissor\n",
            "Computer win\n",
            "None\n",
            "Enter Rock,Paper,Scissor or('q' to quit):q\n",
            "You chose q and computer chose paper\n",
            "Computer win\n",
            "None\n"
          ]
        }
      ],
      "source": [
        "import random\n",
        "def get_cs_choice():\n",
        "    choice=[\"Rock\",\"Paper\",\"Scissor\"]\n",
        "    return random.choice(choice).lower()\n",
        "def get_guser_choice():\n",
        "    user_input=input(\"Enter Rock,Paper,Scissor or('q' to quit):\").lower()\n",
        "    return user_input\n",
        "    while user_input not in [\"Rock\",\"Paper\",\"Scissor\",\"q\"]:\n",
        "        print(\"Invalid choice\")\n",
        "    return user_input\n",
        "def winner(user_choice,computer_choice):\n",
        "    if user_choice==computer_choice:\n",
        "        print(\"It's a  tie\")\n",
        "    elif user_choice==\"rock\" and computer_choice==\"scissor\" or user_choice==\"paper\" and computer_choice==\"rock\" or user_choice==\"scissor\" and computer_choice==\"paper\":\n",
        "        print(\"You win\")\n",
        "    else:\n",
        "        print(\"Computer win\")\n",
        "def play_game():\n",
        "  while True:\n",
        "    user_choice=get_guser_choice()\n",
        "    computer_choice=get_cs_choice()\n",
        "    print(f\"You chose {user_choice} and computer chose {computer_choice}\")\n",
        "    result=winner(user_choice,computer_choice)\n",
        "    print(result)\n",
        "    if user_choice==\"q\":\n",
        "        break\n",
        "play_game()"
      ]
    }
  ]
}